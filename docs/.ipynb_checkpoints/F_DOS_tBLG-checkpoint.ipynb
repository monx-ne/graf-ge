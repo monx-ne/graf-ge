{
 "cells": [
  {
   "cell_type": "markdown",
   "metadata": {},
   "source": [
    "### Densidad de estados"
   ]
  },
  {
   "cell_type": "markdown",
   "metadata": {},
   "source": [
    "A continuación, se calcula la DOS para la bicapa de grafeno usando la función de Green:"
   ]
  },
  {
   "cell_type": "code",
   "execution_count": 1,
   "metadata": {
    "ExecuteTime": {
     "end_time": "2020-02-21T21:47:04.631488Z",
     "start_time": "2020-02-21T21:47:04.429740Z"
    }
   },
   "outputs": [],
   "source": [
    "from pylab import *"
   ]
  },
  {
   "cell_type": "code",
   "execution_count": 2,
   "metadata": {
    "ExecuteTime": {
     "end_time": "2020-02-21T21:47:04.682602Z",
     "start_time": "2020-02-21T21:47:04.634061Z"
    }
   },
   "outputs": [],
   "source": [
    "### Parametros\n",
    "π = pi\n",
    "d   = 1.42      # Å\n",
    "dAB = 3.35      # Å\n",
    "t   = 2.97      # eV\n",
    "tAB = 0.33      # eV\n",
    "tk  = 0.58      # eV Å^2\n",
    "a   = sqrt(3)*d\n",
    "\n",
    "θgrad   = 5\n",
    "θ       = θgrad*(pi/180)\n",
    "\n",
    "K      = 4*π/(3*a)*array([1,0])\n",
    "absK   = abs(4*π/(3*a))\n",
    "ΔK     = abs(2*absK*sin(θ/2))\n",
    "\n",
    "Auc = a*a*sqrt(3)/2\n",
    "b1  = 4*pi/3/d*array([ sqrt(3)/2,0.5])\n",
    "b2  = 4*pi/3/d*array([-sqrt(3)/2,0.5])\n",
    "\n",
    "Auc_m = (3*sqrt(3)*d**2)/(8*(sin(θ/2))**2)\n",
    "b1_m  = sqrt(3)*ΔK*array([0.5,-sqrt(3)/2])\n",
    "b2_m  = sqrt(3)*ΔK*array([0.5, sqrt(3)/2])\n",
    "\n",
    "g12  = b2\n",
    "g13  = -1 * b1\n",
    "τ0   = array([0,0])\n",
    "\n",
    "# Vectores de separación entre los conos de la capa 1 y 2 \n",
    "qb  = ΔK*array([     0, -1])\n",
    "qtr = ΔK*array([ sqrt(3),1])/2\n",
    "qtl = ΔK*array([-sqrt(3),1])/2\n",
    "\n",
    "δ1 = d*array([       0,1])\n",
    "δ2 = d*array([-sqrt(3),1])/2\n",
    "δ3 = d*array([ sqrt(3),1])/2\n",
    "\n",
    "ħvF = 1.5*d*2.970     # eV*angstrom, Fermi velocity for SLG"
   ]
  },
  {
   "cell_type": "code",
   "execution_count": 3,
   "metadata": {
    "ExecuteTime": {
     "end_time": "2020-02-21T21:47:04.693993Z",
     "start_time": "2020-02-21T21:47:04.685104Z"
    }
   },
   "outputs": [],
   "source": [
    "ϕ  = 2*π/3\n",
    "\n",
    "#Matrices\n",
    "\n",
    "\n",
    "B = tk/Auc*array([[1,1],\n",
    "                  [1,1]])\n",
    "R = tk/Auc*exp(-1J*dot(g12,τ0)) * array([[exp( 1J*ϕ),        1],\n",
    "                                         [exp(-1J*ϕ),exp(1J*ϕ)]])\n",
    "L = tk/Auc*exp(-1J*dot(g13,τ0))* array([[exp(-1J*ϕ),         1],\n",
    "                                        [exp( 1J*ϕ),exp(-1J*ϕ)]])\n",
    "\n",
    "Z  = zeros((2, 2))"
   ]
  },
  {
   "cell_type": "code",
   "execution_count": 4,
   "metadata": {
    "ExecuteTime": {
     "end_time": "2020-02-21T21:47:04.746844Z",
     "start_time": "2020-02-21T21:47:04.695876Z"
    }
   },
   "outputs": [],
   "source": [
    "# Construcción de la red y de su diccionario\n",
    "\n",
    "O1 = array([0,0]) # origen\n",
    "O2 = qb # origen\n",
    "L1 = array([0,0])\n",
    "L2 = array([0,0])+O2\n",
    "\n",
    "###################################################\n",
    "num  = 2 # Define el tamaño de la red\n",
    "###################################################\n",
    "\n",
    "\n",
    "n,m  = arange(-num,num+1,1),arange(-num,num+1,1)\n",
    "\n",
    "N,M   = meshgrid(n,m)\n",
    "N     = N.reshape( (2*num+1)*(2*num+1), )\n",
    "M     = M.reshape( (2*num+1)*(2*num+1), )\n",
    "coef  = column_stack([N,M])\n",
    "bvec  = array([b1_m,b2_m])\n",
    "Des   = dot( coef,bvec )\n",
    "allL1 = L1+Des\n",
    "allL2 = L2+Des\n",
    "\n",
    "c = []\n",
    "for n in range(len(allL1)):\n",
    "    c.append(allL1[n])\n",
    "    c.append(allL2[n])\n",
    "    \n",
    "DicRedRec = {}\n",
    "\n",
    "for n,b in enumerate(c):\n",
    "    key = n\n",
    "    DicRedRec[key] = { \"pos\" : c[n],\n",
    "                       \"capa\": n%2+1,\n",
    "                       \"α\"   : coef[int(n/2)][0],\n",
    "                       \"β\"   : coef[int(n/2)][1]\n",
    "    }\n",
    "    \n",
    "# Hamiltoniano entre capas\n",
    "\n",
    "\n",
    "Hcapas = zeros( (len(DicRedRec.keys()),len(DicRedRec.keys())),dtype=int )\n",
    "\n",
    "\n",
    "# 0 -> Z (2x2)\n",
    "# 1 -> qb\n",
    "# 2 -> qtr\n",
    "# 3 -> qtl\n",
    "DicMat = { 0:Z, 1:B, 2:R, 3:L }\n",
    "\n",
    "for n in range(0,len(DicRedRec.keys()),2):\n",
    "    for key in DicRedRec:\n",
    "        if DicRedRec[key][\"capa\"]==2:\n",
    "            if (DicRedRec[key][\"α\"] ==DicRedRec[n][\"α\"] and DicRedRec[key][\"β\"] ==DicRedRec[n][\"β\"] ):\n",
    "                Hcapas[(n,key)] = 1 # print (\"qb\",key)\n",
    "                \n",
    "            if (DicRedRec[key][\"α\"] ==DicRedRec[n][\"α\"] and DicRedRec[key][\"β\"] ==DicRedRec[n][\"β\"]+1 ):\n",
    "                Hcapas[(n,key)] = 2 # print (\"qtr\",key)\n",
    "                \n",
    "            if (DicRedRec[key][\"α\"] ==DicRedRec[n][\"α\"]-1 and DicRedRec[key][\"β\"] ==DicRedRec[n][\"β\"] ):\n",
    "                Hcapas[(n,key)] = 3 # print (\"qtl\",key)\n",
    "                \n",
    "Hm = [ [DicMat[i] for i in rw] for rw in Hcapas ]\n",
    "H1 = asarray(bmat(Hm))\n",
    "H2 = H1.conj().T\n",
    "\n",
    "Hentrecapas = H1 + H2"
   ]
  },
  {
   "cell_type": "code",
   "execution_count": 5,
   "metadata": {
    "ExecuteTime": {
     "end_time": "2020-02-21T21:47:04.763750Z",
     "start_time": "2020-02-21T21:47:04.759002Z"
    }
   },
   "outputs": [],
   "source": [
    "# Definir el camino en los puntos k\n",
    "Km  = array([0,0])## b1_m + b2_m #   # ΔK*array([0,-1]) # *** Aquí tengo duda\n",
    "Kpm = -qb ##Km - Km\n",
    "Γm  = qtr # array([0,0]) # Km - qtl\n",
    "Mm  = -qtl/2\n",
    "Km2 = Km"
   ]
  },
  {
   "cell_type": "code",
   "execution_count": 6,
   "metadata": {
    "ExecuteTime": {
     "end_time": "2020-02-21T21:47:04.776828Z",
     "start_time": "2020-02-21T21:47:04.765724Z"
    }
   },
   "outputs": [],
   "source": [
    "def GetkPath(kpoints,numNk):\n",
    "    numP = len(kpoints)\n",
    "    Dist = []\n",
    "    for k in range(numP-1):\n",
    "        veck = kpoints[k+1]-kpoints[k]\n",
    "        D    = sqrt( dot(veck,veck) )\n",
    "        Dist.append( D )\n",
    "    Dist = array(Dist)\n",
    "    Nk_p = array( [ int(numNk*D/Dist.sum()) for D in Dist ] )\n",
    "    if (Nk_p.sum()<numNk):\n",
    "        Nk_p[-1] = numNk - Nk_p[:-1].sum()\n",
    "    KX, KY = array([]),array([])\n",
    "    for k in range(numP-1):\n",
    "        KX = concatenate([KX,linspace(kpoints[k][0],kpoints[k+1][0],Nk_p[k])]) \n",
    "        KY = concatenate([KY,linspace(kpoints[k][1],kpoints[k+1][1],Nk_p[k])])\n",
    "    return column_stack((KX,KY)),concatenate([[0],cumsum(Nk_p)])"
   ]
  },
  {
   "cell_type": "code",
   "execution_count": 7,
   "metadata": {
    "ExecuteTime": {
     "end_time": "2020-02-21T21:47:04.793124Z",
     "start_time": "2020-02-21T21:47:04.784314Z"
    }
   },
   "outputs": [
    {
     "name": "stdout",
     "output_type": "stream",
     "text": [
      "CPU times: user 3.35 ms, sys: 0 ns, total: 3.35 ms\n",
      "Wall time: 1.98 ms\n"
     ]
    }
   ],
   "source": [
    "%%time\n",
    "n  = 200\n",
    "kx = np.linspace(0,1,n)\n",
    "ky = np.linspace(0,1,n)\n",
    "KX, KY = np.meshgrid(kx,ky)\n",
    "\n",
    "KX = KX.reshape(n*n,)\n",
    "KY = KY.reshape(n*n,)\n",
    "kpts = column_stack((KX,KY))\n",
    "\n",
    "bvec = array([b1_m,b2_m])\n",
    "\n",
    "k = dot(kpts,bvec)"
   ]
  },
  {
   "cell_type": "code",
   "execution_count": 8,
   "metadata": {
    "ExecuteTime": {
     "end_time": "2020-02-21T21:47:04.813028Z",
     "start_time": "2020-02-21T21:47:04.795281Z"
    }
   },
   "outputs": [],
   "source": [
    "# Construcción del Hamiltoniano \n",
    "def GetHam(k):\n",
    "    Hdiag = zeros_like(Hentrecapas)\n",
    "    for key in DicRedRec:\n",
    "        diagonal = zeros(len(DicRedRec.keys()))\n",
    "        diagonal[key] = 1\n",
    "        \n",
    "        if (DicRedRec[key][\"capa\"]==1):\n",
    "            # Capa 1\n",
    "            sh  = DicRedRec[key][\"α\"]*b1_m+DicRedRec[key][\"β\"]*b2_m\n",
    "            #fk  = exp(1J*dot( dot(Rpθ2,k+sh), dot(Rpθ2,δ1) )) \\\n",
    "            #     +exp(1J*dot( dot(Rpθ2,k+sh), dot(Rpθ2,δ2) )) \\\n",
    "            #     +exp(1J*dot( dot(Rpθ2,k+sh), dot(Rpθ2,δ3) ))\n",
    "            q  = k + sh\n",
    "            # print (q,DicRedRec[key][\"α\"],DicRedRec[key][\"β\"],k )\n",
    "            fk = q[0]*( cos(θ/2)+1J*sin(θ/2) )+q[1]*( sin(θ/2)-1J*cos(θ/2) )\n",
    "            # print (ħvF*fk,DicRedRec[key][\"α\"],DicRedRec[key][\"β\"])\n",
    "        if (DicRedRec[key][\"capa\"]==2):\n",
    "            # Capa 2\n",
    "            \n",
    "            sh  = DicRedRec[key][\"α\"]*b1_m+DicRedRec[key][\"β\"]*b2_m\n",
    "            #fk  = exp(1J*dot( dot(Rmθ2,k+sh), dot(Rmθ2,δ1) )) \\\n",
    "            #     +exp(1J*dot( dot(Rmθ2,k+sh), dot(Rmθ2,δ2) )) \\\n",
    "            #     +exp(1J*dot( dot(Rmθ2,k+sh), dot(Rmθ2,δ3) ))\n",
    "            q  = k + sh + qb\n",
    "            # print (q,DicRedRec[key][\"α\"],DicRedRec[key][\"β\"],k )\n",
    "            fk = q[0]*( cos(-θ/2)+1J*sin(-θ/2) )+q[1]*( sin(-θ/2)-1J*cos(-θ/2) )\n",
    "            # print (ħvF*fk,DicRedRec[key][\"α\"],DicRedRec[key][\"β\"])\n",
    "        # Hk   = array([[ 0 , -t*fk],[-t*conj(fk), 0]])\n",
    "        Hk   = array([[ 0 , ħvF*fk],[ħvF*conj(fk), 0]])\n",
    "        \n",
    "        \n",
    "        Htmp = array(kron(diag(diagonal), [Hk]))[0]\n",
    "        Hdiag += Htmp\n",
    "        \n",
    "    H = Hentrecapas + Hdiag\n",
    "      \n",
    "    eigenvalue,featurevector=linalg.eig(H)\n",
    "    return sort(eigenvalue.real)"
   ]
  },
  {
   "cell_type": "code",
   "execution_count": 9,
   "metadata": {
    "ExecuteTime": {
     "end_time": "2020-02-21T21:47:04.825339Z",
     "start_time": "2020-02-21T21:47:04.815119Z"
    }
   },
   "outputs": [],
   "source": [
    "from multiprocessing import Pool"
   ]
  },
  {
   "cell_type": "code",
   "execution_count": 10,
   "metadata": {
    "ExecuteTime": {
     "end_time": "2020-02-21T21:57:18.271574Z",
     "start_time": "2020-02-21T21:47:04.826781Z"
    }
   },
   "outputs": [],
   "source": [
    "p  = Pool()\n",
    "Ek = p.map(GetHam,k)\n",
    "Ek = array(Ek)"
   ]
  },
  {
   "cell_type": "code",
   "execution_count": 11,
   "metadata": {
    "ExecuteTime": {
     "end_time": "2020-02-21T21:57:18.290635Z",
     "start_time": "2020-02-21T21:57:18.276589Z"
    }
   },
   "outputs": [],
   "source": [
    "Ek = Ek.flatten()"
   ]
  },
  {
   "cell_type": "code",
   "execution_count": 12,
   "metadata": {
    "ExecuteTime": {
     "end_time": "2020-02-21T21:57:18.295411Z",
     "start_time": "2020-02-21T21:57:18.292213Z"
    }
   },
   "outputs": [],
   "source": [
    "t  = 2.97\n",
    "E = linspace(-4*t,4*t,1000)\n",
    "\n",
    "η = 0.001\n",
    "z = E+1J*η"
   ]
  },
  {
   "cell_type": "code",
   "execution_count": 13,
   "metadata": {
    "ExecuteTime": {
     "end_time": "2020-02-21T21:57:56.454366Z",
     "start_time": "2020-02-21T21:57:18.296575Z"
    }
   },
   "outputs": [],
   "source": [
    "G = zeros(len(z),dtype=complex)\n",
    "for n in range(len(z)):\n",
    "    G[n] = sum( 1/(z[n]-Ek) )"
   ]
  },
  {
   "cell_type": "code",
   "execution_count": 14,
   "metadata": {
    "ExecuteTime": {
     "end_time": "2020-02-21T21:57:56.458312Z",
     "start_time": "2020-02-21T21:57:56.455757Z"
    }
   },
   "outputs": [],
   "source": [
    "G /= len(Ek)"
   ]
  },
  {
   "cell_type": "code",
   "execution_count": 15,
   "metadata": {
    "ExecuteTime": {
     "end_time": "2020-02-21T21:57:56.488733Z",
     "start_time": "2020-02-21T21:57:56.460392Z"
    }
   },
   "outputs": [],
   "source": [
    "%matplotlib inline\n",
    "%matplotlib inline"
   ]
  },
  {
   "cell_type": "code",
   "execution_count": 17,
   "metadata": {
    "ExecuteTime": {
     "end_time": "2020-02-21T21:57:56.634974Z",
     "start_time": "2020-02-21T21:57:56.491232Z"
    }
   },
   "outputs": [
    {
     "data": {
      "text/plain": [
       "Text(0.5, 1.0, 'E (eV)')"
      ]
     },
     "execution_count": 17,
     "metadata": {},
     "output_type": "execute_result"
    },
    {
     "data": {
      "image/png": "[encoded data removed]",
      "text/plain": [
       "<Figure size 432x288 with 1 Axes>"
      ]
     },
     "metadata": {
      "needs_background": "light"
     },
     "output_type": "display_data"
    }
   ],
   "source": [
    "plot(z.real,-G.imag/pi)\n",
    "xlim(-1.0,1.0)\n",
    "ylim(0.0,0.1)\n",
    "plot([0.3,0.3],[0,0.1],\"--\")\n",
    "plot([-0.3,-0.3],[0,0.1],\"--\")\n",
    "\n",
    "ylabel('DOS') \n",
    "title('E (eV)') \n"
   ]
  }
 ],
 "metadata": {
  "kernelspec": {
   "display_name": "Python 3",
   "language": "python",
   "name": "python3"
  },
  "language_info": {
   "codemirror_mode": {
    "name": "ipython",
    "version": 3
   },
   "file_extension": ".py",
   "mimetype": "text/x-python",
   "name": "python",
   "nbconvert_exporter": "python",
   "pygments_lexer": "ipython3",
   "version": "3.7.6"
  },
  "latex_envs": {
   "LaTeX_envs_menu_present": true,
   "autoclose": false,
   "autocomplete": false,
   "bibliofile": "biblio.bib",
   "cite_by": "apalike",
   "current_citInitial": 1,
   "eqLabelWithNumbers": true,
   "eqNumInitial": 1,
   "hotkeys": {
    "equation": "Ctrl-E",
    "itemize": "Ctrl-I"
   },
   "labels_anchors": false,
   "latex_user_defs": false,
   "report_style_numbering": false,
   "user_envs_cfg": false
  },
  "toc": {
   "base_numbering": 1,
   "nav_menu": {},
   "number_sections": true,
   "sideBar": true,
   "skip_h1_title": false,
   "title_cell": "Table of Contents",
   "title_sidebar": "Contents",
   "toc_cell": false,
   "toc_position": {},
   "toc_section_display": true,
   "toc_window_display": false
  },
  "varInspector": {
   "cols": {
    "lenName": 16,
    "lenType": 16,
    "lenVar": 40
   },
   "kernels_config": {
    "python": {
     "delete_cmd_postfix": "",
     "delete_cmd_prefix": "del ",
     "library": "var_list.py",
     "varRefreshCmd": "print(var_dic_list())"
    },
    "r": {
     "delete_cmd_postfix": ") ",
     "delete_cmd_prefix": "rm(",
     "library": "var_list.r",
     "varRefreshCmd": "cat(var_dic_list()) "
    }
   },
   "types_to_exclude": [
    "module",
    "function",
    "builtin_function_or_method",
    "instance",
    "_Feature"
   ],
   "window_display": false
  }
 },
 "nbformat": 4,
 "nbformat_minor": 2
}
