{
 "cells": [
  {
   "cell_type": "markdown",
   "metadata": {
    "colab_type": "text",
    "id": "CbJONKluxiPK"
   },
   "source": [
    "### Densidad de estados"
   ]
  },
  {
   "cell_type": "markdown",
   "metadata": {
    "colab_type": "text",
    "id": "M5D78y0lxiPQ"
   },
   "source": [
    "La densidad de estados (DOS) describe el número de estados electrónicos disponibles en un valor de energía fijo."
   ]
  },
  {
   "cell_type": "code",
   "execution_count": 1,
   "metadata": {
    "colab": {},
    "colab_type": "code",
    "id": "9m9_1x0RxiPT"
   },
   "outputs": [],
   "source": [
    "from pylab import *"
   ]
  },
  {
   "cell_type": "code",
   "execution_count": 2,
   "metadata": {
    "colab": {},
    "colab_type": "code",
    "id": "NIHTLaxhxiPZ"
   },
   "outputs": [],
   "source": [
    "%matplotlib inline\n",
    "%matplotlib inline"
   ]
  },
  {
   "cell_type": "markdown",
   "metadata": {
    "colab_type": "text",
    "id": "RBRPMhqsx3r-"
   },
   "source": [
    "Para la monocapa de grafeno, primero definimos una función que establece una trayectoria en la 1BZ y otra que calculará los eigenvalores del sistema para un determinado número de puntos en el espacio recíproco:"
   ]
  },
  {
   "cell_type": "code",
   "execution_count": 3,
   "metadata": {
    "colab": {
     "base_uri": "https://localhost:8080/",
     "height": 51
    },
    "colab_type": "code",
    "executionInfo": {
     "elapsed": 3668,
     "status": "ok",
     "timestamp": 1591051828611,
     "user": {
      "displayName": "Montserrat Navarro",
      "photoUrl": "https://lh3.googleusercontent.com/a-/AOh14GgZDCZwbjsyS84Ojv-O1UUHEKK-22yM8dzCn8T6iQ=s64",
      "userId": "08732806043808065712"
     },
     "user_tz": 300
    },
    "id": "PRgl9XA6xiPw",
    "outputId": "d6e17894-214c-4a1f-c5c2-33744aded38b"
   },
   "outputs": [
    {
     "name": "stdout",
     "output_type": "stream",
     "text": [
      "CPU times: user 30.5 ms, sys: 4.84 ms, total: 35.3 ms\n",
      "Wall time: 63.4 ms\n"
     ]
    }
   ],
   "source": [
    "%%time\n",
    "n  = 1000\n",
    "kx = np.linspace(0,1,n)\n",
    "ky = np.linspace(0,1,n)\n",
    "KX, KY = np.meshgrid(kx,ky)\n",
    "\n",
    "KX = KX.reshape(n*n,)\n",
    "KY = KY.reshape(n*n,)\n",
    "kpts = column_stack((KX,KY))\n",
    "\n",
    "d = 1.42 #Angstrom\n",
    "\n",
    "b1=4*pi/3/d*array([ sqrt(3)/2   ,   0.5])\n",
    "b2=4*pi/3/d*array([-sqrt(3)/2   ,   0.5])\n",
    "\n",
    "bvec = array([b1,b2])\n",
    "\n",
    "kpuntos = dot(kpts,bvec)"
   ]
  },
  {
   "cell_type": "code",
   "execution_count": 4,
   "metadata": {
    "colab": {},
    "colab_type": "code",
    "id": "6xXTdhNbxiPn"
   },
   "outputs": [],
   "source": [
    "def getEigenSLG(k): \n",
    "    d = 1.42 #Angstrom\n",
    "    fk = np.sqrt( 4*np.cos(np.sqrt(3)/2*d*k[0])*np.cos(3/2*d*k[1]) + 2*np.cos(np.sqrt(3)*d*k[0]) + 3 )\n",
    "    t  = 2.97 #eV\n",
    "    H  = np.array([[ 0 , -t*fk],[-t*fk , 0]])\n",
    "    x = linalg.eigvals(H)\n",
    "    return x.real"
   ]
  },
  {
   "cell_type": "code",
   "execution_count": 5,
   "metadata": {
    "colab": {},
    "colab_type": "code",
    "id": "pG4oOq4exiP6"
   },
   "outputs": [],
   "source": [
    "from multiprocessing import Pool"
   ]
  },
  {
   "cell_type": "code",
   "execution_count": 6,
   "metadata": {
    "colab": {},
    "colab_type": "code",
    "id": "66SjC7sKxiP_"
   },
   "outputs": [],
   "source": [
    "p  = Pool()\n",
    "Ek = p.map(getEigenSLG,kpuntos)\n",
    "Ek = array(Ek)"
   ]
  },
  {
   "cell_type": "code",
   "execution_count": 7,
   "metadata": {
    "colab": {},
    "colab_type": "code",
    "id": "YxdLV7U4xiQK"
   },
   "outputs": [],
   "source": [
    "Ek = Ek.flatten()"
   ]
  },
  {
   "cell_type": "markdown",
   "metadata": {
    "colab_type": "text",
    "id": "EeJoVoY1xiPS"
   },
   "source": [
    "Ya que tenemos los eigenvalores, podemos calular la DOS mediante la elaboración de un histograma o con ayuda de la función de Green. A continuación, se muestra un ejemplo de cada uno de los métodos propuestos:"
   ]
  },
  {
   "cell_type": "markdown",
   "metadata": {
    "colab_type": "text",
    "id": "rgnlD0ZZxiPm"
   },
   "source": [
    "#### Histograma"
   ]
  },
  {
   "cell_type": "code",
   "execution_count": 8,
   "metadata": {
    "colab": {},
    "colab_type": "code",
    "id": "i5MtiS13xiQU"
   },
   "outputs": [
    {
     "data": {
      "image/png": "[encoded data removed]",
      "text/plain": [
       "<Figure size 432x288 with 1 Axes>"
      ]
     },
     "metadata": {
      "needs_background": "light"
     },
     "output_type": "display_data"
    }
   ],
   "source": [
    "fig, ax = plt.subplots()\n",
    "ax.hist(Ek,1001,range=(-9.1,9.1),density=True,color=\"blue\",alpha=0.5)\n",
    "\n",
    "ax.set_title(\"Grafeno\")\n",
    "ax.set_xlabel(\"Energía [t]\")\n",
    "ax.set_ylabel(\"DOS\")\n",
    "\n",
    "ax.set_xlim(-2,2)\n",
    "ax.set_ylim(0,0.075)\n",
    "\n",
    "fig.tight_layout()\n",
    "fig.savefig(\"graphene_dos.pdf\")"
   ]
  },
  {
   "cell_type": "markdown",
   "metadata": {
    "colab_type": "text",
    "id": "JwM4CdzgxiQZ"
   },
   "source": [
    "#### Función de Green"
   ]
  },
  {
   "cell_type": "code",
   "execution_count": 9,
   "metadata": {
    "colab": {},
    "colab_type": "code",
    "id": "Tm2M8TCfxiRC"
   },
   "outputs": [],
   "source": [
    "t  = 2.97\n",
    "E = linspace(-3*t,3*t,1000)\n",
    "η = 0.1\n",
    "z = E+1J*η"
   ]
  },
  {
   "cell_type": "code",
   "execution_count": 10,
   "metadata": {
    "colab": {},
    "colab_type": "code",
    "id": "YAIXEt0YxiRI"
   },
   "outputs": [],
   "source": [
    "G = zeros(len(z),dtype=complex)\n",
    "for n in range(len(z)):\n",
    "    G[n] = sum( 1/(z[n]-Ek) )"
   ]
  },
  {
   "cell_type": "code",
   "execution_count": 11,
   "metadata": {
    "colab": {},
    "colab_type": "code",
    "id": "txTwKqNpxiRN"
   },
   "outputs": [],
   "source": [
    "G /= len(Ek)"
   ]
  },
  {
   "cell_type": "code",
   "execution_count": 12,
   "metadata": {
    "colab": {},
    "colab_type": "code",
    "id": "E-xMsRw2xiRS"
   },
   "outputs": [
    {
     "data": {
      "text/plain": [
       "[<matplotlib.lines.Line2D at 0x7f7b6867da10>]"
      ]
     },
     "execution_count": 12,
     "metadata": {},
     "output_type": "execute_result"
    },
    {
     "data": {
      "image/png": "[encoded data removed]",
      "text/plain": [
       "<Figure size 432x288 with 1 Axes>"
      ]
     },
     "metadata": {
      "needs_background": "light"
     },
     "output_type": "display_data"
    }
   ],
   "source": [
    "plot(z.real,G.real)"
   ]
  },
  {
   "cell_type": "code",
   "execution_count": 13,
   "metadata": {
    "colab": {},
    "colab_type": "code",
    "id": "1mKh7ISGxiRY"
   },
   "outputs": [
    {
     "data": {
      "text/plain": [
       "[<matplotlib.lines.Line2D at 0x7f7b685e2cd0>]"
      ]
     },
     "execution_count": 13,
     "metadata": {},
     "output_type": "execute_result"
    },
    {
     "data": {
      "image/png": "[encoded data removed]",
      "text/plain": [
       "<Figure size 432x288 with 1 Axes>"
      ]
     },
     "metadata": {
      "needs_background": "light"
     },
     "output_type": "display_data"
    }
   ],
   "source": [
    "plot(z.real,-G.imag/pi)"
   ]
  }
 ],
 "metadata": {
  "colab": {
   "name": "C_DOS_SLG(incompleto).ipynb",
   "provenance": []
  },
  "kernelspec": {
   "display_name": "Python 3",
   "language": "python",
   "name": "python3"
  },
  "language_info": {
   "codemirror_mode": {
    "name": "ipython",
    "version": 3
   },
   "file_extension": ".py",
   "mimetype": "text/x-python",
   "name": "python",
   "nbconvert_exporter": "python",
   "pygments_lexer": "ipython3",
   "version": "3.7.6"
  }
 },
 "nbformat": 4,
 "nbformat_minor": 1
}
