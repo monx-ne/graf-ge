{
 "cells": [
  {
   "cell_type": "markdown",
   "metadata": {
    "colab_type": "text",
    "id": "kBqfiHwA4C5F"
   },
   "source": [
    "# Bicapa de grafeno rotada"
   ]
  },
  {
   "cell_type": "markdown",
   "metadata": {
    "colab_type": "text",
    "id": "5wcn9KdW4C5H"
   },
   "source": [
    "Consideramos dos capas de grafeno apiladas (A-B) y rotadas entre ellas un ángulo $\\theta$. La periodicidad espacial de cada capa genera un efecto de interferencia que resulta en un patrón de Moiré. Para que se produzca una supercelda conmensurada, el ángulo de rotación debe cumplir la siguiente relación."
   ]
  },
  {
   "cell_type": "markdown",
   "metadata": {
    "colab_type": "text",
    "id": "17-7Hh0jAzzy"
   },
   "source": [
    "  ![AQUI](tBLGs.png)"
   ]
  },
  {
   "cell_type": "markdown",
   "metadata": {
    "colab_type": "text",
    "id": "D1F_HPkE4C5I"
   },
   "source": [
    "\\begin{equation}\n",
    "\\cos  \\theta = \\frac {3m_o^2+3m_or+r^2/2}{3m_o^2+3m_or+r^2}  \n",
    "\\end{equation}"
   ]
  },
  {
   "cell_type": "markdown",
   "metadata": {
    "colab_type": "text",
    "id": "hDSH74294C5J"
   },
   "source": [
    "donde $m_o$ y $r$  son enteros positivos coprimos y $0° < \\theta < 30°$. El efecto de estos parámetros se refleja en los vectores de la supercelda de Moiré en el espacio real y recíproco."
   ]
  },
  {
   "cell_type": "markdown",
   "metadata": {
    "colab_type": "text",
    "id": "ZojUj6m94C5L"
   },
   "source": [
    "La supercelda de Moiré tendrá una periodicidad de mayor área a comparación de la celda unitaria en grafeno."
   ]
  },
  {
   "cell_type": "markdown",
   "metadata": {
    "colab_type": "text",
    "id": "s1P_s4bP4C5M"
   },
   "source": [
    "## Geometría de red"
   ]
  },
  {
   "cell_type": "markdown",
   "metadata": {
    "colab_type": "text",
    "id": "ypwDxb5N4C5P"
   },
   "source": [
    "### Espacio real"
   ]
  },
  {
   "cell_type": "markdown",
   "metadata": {
    "colab_type": "text",
    "id": "-MpCz9Gu4C5Q"
   },
   "source": [
    "Se parte de un apilamiento A-B entre la capa 1 y la capa 2, luego se rotan $\\theta/2$ y -$\\theta/2$, respectivamente."
   ]
  },
  {
   "cell_type": "markdown",
   "metadata": {
    "colab_type": "text",
    "id": "okbJgxoT4C5Q"
   },
   "source": [
    "  ![AQUI](Moire5deg.png)"
   ]
  },
  {
   "cell_type": "markdown",
   "metadata": {
    "colab_type": "text",
    "id": "E7qM55T_4C5R"
   },
   "source": [
    "En el espacio real, consideramos los vectores de cada capa ($l$) de la forma:"
   ]
  },
  {
   "cell_type": "markdown",
   "metadata": {
    "colab_type": "text",
    "id": "w74YRUh94C5S"
   },
   "source": [
    "\\begin{equation}\n",
    "\\textbf{R}_ {l}= n_1 \\textbf{a}_ {l,1} + n_2 \\textbf{a}_ {l,2} \\quad n_1, n_2  \\in  \\mathbb{Z}\n",
    "\\end{equation}"
   ]
  },
  {
   "cell_type": "markdown",
   "metadata": {
    "colab_type": "text",
    "id": "ZtwcT_lb4C5T"
   },
   "source": [
    "Recordando que los vectores base $\\textbf{a}_1$ y $\\textbf{a}_2$ son los vectores de la monocapa en el espacio real, definidos anteriormente.\n",
    "\n"
   ]
  },
  {
   "cell_type": "markdown",
   "metadata": {
    "colab_type": "text",
    "id": "rRC6gPHu4C5V"
   },
   "source": [
    "La relación entre los vectores base de cada capa es:\n",
    "\n",
    "\\begin{equation}\n",
    "\\textbf{a}_ {2,i}= R_{\\theta} \\cdot \\textbf{a}_ {1,i}\n",
    "\\end{equation}\n",
    " \n",
    "Siendo $R_{\\theta}$ la matriz de rotación en un sistema 2D:\n",
    "\n",
    "\n",
    "$$\n",
    " R_{\\theta}=\n",
    "    \\left[\n",
    "    \\begin{array}{cc}\n",
    "    \\cos (\\theta) & -\\sin (\\theta) \\\\\n",
    "    \\sin (\\theta) & \\cos (\\theta) \n",
    "    \\end{array}\n",
    "    \\right]\n",
    "$$"
   ]
  },
  {
   "cell_type": "markdown",
   "metadata": {
    "colab_type": "text",
    "id": "5IgpCuUB4C5V"
   },
   "source": [
    "### Espacio recíproco"
   ]
  },
  {
   "cell_type": "markdown",
   "metadata": {
    "colab_type": "text",
    "id": "R0NRQ7gQ4C5W"
   },
   "source": [
    "Es necesario definir los vectores de la celda recíproca $\\textbf{b}^m_1$ y $\\textbf{b}^m_2$ en función del ángulo de rotación, donde la primera zona de Brillouin (1BZ)  albergará la información de todo nuestro sistema.\n",
    "\n",
    "\\begin{equation}\n",
    "\\textbf{b}^m_1 = \\sqrt3  | \\Delta  K |  \\left(\\frac{1}{2},\\frac{-\\sqrt3}{2}\\right) \\hspace{5mm} , \\hspace{5mm} \\textbf{b}^m_2 = \\sqrt3  | \\Delta  K |  \\left(\\frac{1}{2},\\frac{\\sqrt3}{2}\\right) \n",
    "\\end{equation}\n",
    "\n",
    "donde $|\\Delta K | = 2 | K | \\sin (\\theta / 2)$ es la separación entre los puntos de Dirac de las dos capas, con  \n",
    "\n",
    "$$ | K | = \\frac{4 \\pi}{3 d \\sqrt{3} }$$."
   ]
  },
  {
   "cell_type": "markdown",
   "metadata": {},
   "source": [
    "Podemos representar la 1ZB de la supercelda (rosa) como se muestra en el siguiente esquema :"
   ]
  },
  {
   "cell_type": "markdown",
   "metadata": {
    "colab_type": "text",
    "id": "ltF2OA2X4C5X"
   },
   "source": [
    "![AQUI](tBLGrec.png)"
   ]
  },
  {
   "cell_type": "markdown",
   "metadata": {},
   "source": [
    "donde $K_m ^{\\pm}$, $Γ_m$ y $M_m$ son los puntos de alta simetría."
   ]
  },
  {
   "cell_type": "markdown",
   "metadata": {
    "colab_type": "text",
    "id": "2lqumCf74C5Y"
   },
   "source": [
    "Para obtener los vectores $\\textbf{a}^m_1$ y $\\textbf{a}^m_2$, recordemos que por definición obedecen:"
   ]
  },
  {
   "cell_type": "markdown",
   "metadata": {
    "colab_type": "text",
    "id": "RU1c1mje4C5Z"
   },
   "source": [
    "\\begin{equation}\n",
    "\\textbf{a}_ {i} \\cdot \\textbf{b}_ j = 2 \\pi \\delta_{i,j} \n",
    "\\end{equation}"
   ]
  }
 ],
 "metadata": {
  "colab": {
   "collapsed_sections": [],
   "name": "D_tBLGGeom.ipynb",
   "provenance": []
  },
  "kernelspec": {
   "display_name": "Python 3",
   "language": "python",
   "name": "python3"
  },
  "language_info": {
   "codemirror_mode": {
    "name": "ipython",
    "version": 3
   },
   "file_extension": ".py",
   "mimetype": "text/x-python",
   "name": "python",
   "nbconvert_exporter": "python",
   "pygments_lexer": "ipython3",
   "version": "3.7.6"
  }
 },
 "nbformat": 4,
 "nbformat_minor": 1
}
