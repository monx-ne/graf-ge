{
 "cells": [
  {
   "cell_type": "code",
   "execution_count": 1,
   "metadata": {
    "colab": {},
    "colab_type": "code",
    "id": "it_W_1snRIY2"
   },
   "outputs": [],
   "source": [
    "from pylab import *\n",
    "import numpy as np\n",
    "import math\n",
    "import matplotlib.pyplot as plt\n",
    "from scipy import linalg\n",
    "from matplotlib import pyplot as plt"
   ]
  },
  {
   "cell_type": "code",
   "execution_count": 2,
   "metadata": {},
   "outputs": [],
   "source": [
    "def GetkPath(kpoints,numNk):\n",
    "    numP = len(kpoints)\n",
    "    Dist = []\n",
    "    for k in range(numP-1):\n",
    "        veck = kpoints[k+1]-kpoints[k]\n",
    "        D    = sqrt( dot(veck,veck) )\n",
    "        Dist.append( D )\n",
    "    Dist = array(Dist)\n",
    "    Nk_p = array( [ int(numNk*D/Dist.sum()) for D in Dist ] )\n",
    "    if (Nk_p.sum()<numNk):\n",
    "        Nk_p[-1] = numNk - Nk_p[:-1].sum()\n",
    "    KX, KY = array([]),array([])\n",
    "    for k in range(numP-1):\n",
    "        KX = concatenate([KX,linspace(kpoints[k][0],kpoints[k+1][0],Nk_p[k])]) \n",
    "        KY = concatenate([KY,linspace(kpoints[k][1],kpoints[k+1][1],Nk_p[k])])\n",
    "    return column_stack((KX,KY)),concatenate([[0],cumsum(Nk_p)])"
   ]
  },
  {
   "cell_type": "code",
   "execution_count": 3,
   "metadata": {},
   "outputs": [],
   "source": [
    "d   = 1.42\n",
    "t   = 2.97  \n",
    "b1 = 4*pi/3/d*array([ sqrt(3)/2,0.5])\n",
    "b2 = 4*pi/3/d*array([-sqrt(3)/2,0.5])\n",
    "bvec = array([b1,b2])"
   ]
  },
  {
   "cell_type": "code",
   "execution_count": 4,
   "metadata": {},
   "outputs": [],
   "source": [
    "Γ = dot( array([  0,  0]), bvec )\n",
    "M = dot( array([1/2,  0]), bvec )\n",
    "K = dot( array([2/3,1/3]), bvec )"
   ]
  },
  {
   "cell_type": "code",
   "execution_count": 5,
   "metadata": {},
   "outputs": [],
   "source": [
    "Nkpoints = 1000\n",
    "K,Kinfo = GetkPath([Γ,K,M,Γ],Nkpoints)\n",
    "Klabel = [ r\"$\\Gamma$\",r\"${\\rm K}$\",r\"${\\rm M}$\",r\"$\\Gamma$\"]"
   ]
  },
  {
   "cell_type": "code",
   "execution_count": 6,
   "metadata": {},
   "outputs": [],
   "source": [
    "H0_k   = []\n",
    "eigva  = []\n",
    "\n",
    "for kx,ky in K:\n",
    "    fk = np.sqrt( 4*np.cos(np.sqrt(3)/2*d*kx)*np.cos(3/2*d*ky) + 2*np.cos(np.sqrt(3)*d*kx) + 3 )\n",
    "    H  = np.array([[ 0             ,  -t*fk ],\n",
    "                   [np.conj(-t*fk) ,   0    ]])\n",
    "    H0_k.append(H)\n",
    "    \n",
    "for n in H0_k:\n",
    "    x = linalg.eigvals(n)\n",
    "    eigva.append(np.sort(x.real))\n",
    "    \n",
    "    \n",
    "eigva = array(eigva)"
   ]
  },
  {
   "cell_type": "code",
   "execution_count": 7,
   "metadata": {
    "colab": {},
    "colab_type": "code",
    "id": "rDFjQA5gRIZE"
   },
   "outputs": [],
   "source": [
    "mpl.rcParams.update({'font.size': 18, 'text.usetex': True})\n",
    "mpl.rcParams.update({'axes.linewidth':1.5})\n",
    "mpl.rcParams.update({'axes.labelsize':'large'})\n",
    "mpl.rcParams.update({'xtick.major.size':6})\n",
    "mpl.rcParams.update({'xtick.minor.size':4})\n",
    "mpl.rcParams.update({'ytick.major.size':6})\n",
    "mpl.rcParams.update({'ytick.minor.size':4})\n",
    "mpl.rcParams.update({'xtick.major.width':1.5})\n",
    "mpl.rcParams.update({'xtick.minor.width':1.0})\n",
    "mpl.rcParams.update({'ytick.major.width':1.5})\n",
    "mpl.rcParams.update({'ytick.minor.width':1.0})\n",
    "mpl.rcParams.update({'legend.frameon':False,'legend.framealpha':0.0})"
   ]
  },
  {
   "cell_type": "code",
   "execution_count": 8,
   "metadata": {
    "colab": {
     "base_uri": "https://localhost:8080/",
     "height": 412
    },
    "colab_type": "code",
    "executionInfo": {
     "elapsed": 1054,
     "status": "ok",
     "timestamp": 1587045473848,
     "user": {
      "displayName": "Jose Barrios",
      "photoUrl": "https://lh3.googleusercontent.com/a-/AOh14GjnY8pau4jb5nAwFS1ZjbcRxylAn6X6nYDn7f6hQA=s64",
      "userId": "00721147066965046203"
     },
     "user_tz": 300
    },
    "id": "IeDpiQDVRIZI",
    "outputId": "03289971-7594-47ae-9386-f36c8ec34dbb"
   },
   "outputs": [
    {
     "data": {
      "image/png": "[encoded data removed]",
      "text/plain": [
       "<Figure size 720x403.2 with 1 Axes>"
      ]
     },
     "metadata": {
      "needs_background": "light"
     },
     "output_type": "display_data"
    }
   ],
   "source": [
    "a   = sqrt(3)*d\n",
    "fig,axes = plt.subplots(ncols=1,nrows=1,figsize=(10,5.6))\n",
    "\n",
    "axes.plot(arange(Nkpoints),eigva.T[0])\n",
    "axes.plot(arange(Nkpoints),eigva.T[1])\n",
    "\n",
    "\n",
    "\n",
    "axes.set_ylabel(r'$E\\,({\\rm eV})$') \n",
    "axes.set_title ('SLG Electronic spectrum')\n",
    "\n",
    "\n",
    "for kl in Kinfo:\n",
    "    axes.plot([kl,kl],[-10,10],'--',lw=1,c='k' )\n",
    "\n",
    "axes.set_xticks(Kinfo)\n",
    "axes.set_xticklabels(Klabel)\n",
    "\n",
    "    \n",
    "fig.tight_layout()\n",
    "fig.savefig(\"SLG.png\")"
   ]
  },
  {
   "cell_type": "code",
   "execution_count": null,
   "metadata": {
    "colab": {},
    "colab_type": "code",
    "id": "3mHeptzzRIZP"
   },
   "outputs": [],
   "source": []
  }
 ],
 "metadata": {
  "colab": {
   "collapsed_sections": [],
   "name": "B_BandStructureSLG.ipynb",
   "provenance": []
  },
  "kernelspec": {
   "display_name": "Python 3",
   "language": "python",
   "name": "python3"
  },
  "language_info": {
   "codemirror_mode": {
    "name": "ipython",
    "version": 3
   },
   "file_extension": ".py",
   "mimetype": "text/x-python",
   "name": "python",
   "nbconvert_exporter": "python",
   "pygments_lexer": "ipython3",
   "version": "3.7.6"
  }
 },
 "nbformat": 4,
 "nbformat_minor": 1
}