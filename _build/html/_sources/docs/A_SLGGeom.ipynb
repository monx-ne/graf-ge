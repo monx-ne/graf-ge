{
 "cells": [
  {
   "cell_type": "markdown",
   "metadata": {
    "colab_type": "text",
    "id": "KAJ8I7Vh3fwl"
   },
   "source": [
    "# Monocapa de grafeno"
   ]
  },
  {
   "cell_type": "markdown",
   "metadata": {
    "colab_type": "text",
    "id": "-1yxvZ-q3fwn"
   },
   "source": [
    "El grafeno es un alótropo de carbono, y consiste de una única capa de C $(sp^2)$ empacados en una estructura  bidimensional."
   ]
  },
  {
   "cell_type": "markdown",
   "metadata": {
    "colab_type": "text",
    "id": "glz6ckVI3fwo"
   },
   "source": [
    "## Geometría de red"
   ]
  },
  {
   "cell_type": "markdown",
   "metadata": {
    "colab_type": "text",
    "id": "DgKtkvgd3fwp"
   },
   "source": [
    "### Espacio Real"
   ]
  },
  {
   "cell_type": "markdown",
   "metadata": {
    "colab_type": "text",
    "id": "7_S_be1Q3fwq"
   },
   "source": [
    "La monocapa de grafeno está conformada por varios carbonos arreglados en una estructura tipo panal. Se considera el sistema de coordenadas procurando que el arreglo en zig-zag esté alineado al eje x."
   ]
  },
  {
   "cell_type": "markdown",
   "metadata": {},
   "source": [
    "![AQUI](SLGreal.png)"
   ]
  },
  {
   "cell_type": "markdown",
   "metadata": {
    "colab_type": "text",
    "id": "y0qGT1ak3fwr"
   },
   "source": [
    "Cada celda unitaria contiene 2 átomos de carbono pertenecientes a diferentes subredes, A y B. El arreglo de varias celdas unitarias forma una red hexagonal de Bravais $\\{\\textbf{R}\\}$, con posiciones:"
   ]
  },
  {
   "cell_type": "markdown",
   "metadata": {
    "colab_type": "text",
    "id": "wt75WLOE3fws"
   },
   "source": [
    "\\begin{equation}\n",
    "\\textbf{R} = n_1 \\textbf{a}_1 + n_2 \\textbf{a}_2, \\quad n_1, n_2 \\epsilon \\mathrm{\\mathbb{Z}}\t\n",
    "\\end{equation}"
   ]
  },
  {
   "cell_type": "markdown",
   "metadata": {
    "colab_type": "text",
    "id": "rjGKzWoZ3fwt"
   },
   "source": [
    "donde los vectores base $a_1$ y $a_2$ se definen como:"
   ]
  },
  {
   "cell_type": "markdown",
   "metadata": {
    "colab_type": "text",
    "id": "XxyIXl783fwu"
   },
   "source": [
    "\\begin{equation}\n",
    "\\textbf{a}_1 =a \\left( \\frac{1}{2},\\frac{\\sqrt3}{2}\\right) \n",
    "\\hspace{5mm},\n",
    "\\hspace{5mm}\n",
    "\\textbf{a}_2 =a \\left(-\\frac{1}{2},\\frac{\\sqrt3}{2}\\right)\n",
    "\\end{equation}"
   ]
  },
  {
   "cell_type": "markdown",
   "metadata": {
    "colab_type": "text",
    "id": "LzHShaB_3fwv"
   },
   "source": [
    "y $a ≃ 2.46\\, Å$  es el parámetro de red, ligado a la distancia carbono-carbono, $d$, por $a = \\sqrt 3 d$."
   ]
  },
  {
   "cell_type": "markdown",
   "metadata": {
    "colab_type": "text",
    "id": "JiCzsvgq3fww"
   },
   "source": [
    "### Espacio Recíproco"
   ]
  },
  {
   "cell_type": "markdown",
   "metadata": {
    "colab_type": "text",
    "id": "xd5z98sR3fww"
   },
   "source": [
    "Dada la red en el espacio real, podemos definir el conjunto de puntos $\\{\\textbf{G}\\}$ tales que $e^{i \\{ \\textbf{R} \\} \\cdot \\{ \\textbf{G} \\} } =1$. Estos puntos forman la red recíproca y pueden escribirse en términos de sus vectores base, de la siguiente manera:\n",
    "\n",
    "\\begin{equation}\n",
    "\\textbf{G} = m_1 \\textbf{b}_1 + m_2 \\textbf{b}_2 \\hspace{8mm} m_1, m_2  \\hspace{1mm} \\epsilon \\hspace{1mm} \\mathbb{Z}\t\n",
    "\\end{equation}"
   ]
  },
  {
   "cell_type": "markdown",
   "metadata": {
    "colab_type": "text",
    "id": "yabsP50s3fwx"
   },
   "source": [
    "donde los vectores $\\textbf{b}_1$ y $\\textbf{b}_2$ obedecen por definición:\n",
    "\n",
    "\n",
    "\\begin{equation}\n",
    "\\textbf{a}_ {i} \\cdot \\textbf{b}_ {j} = 2 \\pi \\delta_{i,j} \n",
    "\\end{equation}"
   ]
  },
  {
   "cell_type": "markdown",
   "metadata": {
    "colab_type": "text",
    "id": "Mjxre4LR3fwy"
   },
   "source": [
    "Por lo tanto, en este caso $\\textbf{b}_1$ y $\\textbf{b}_2$ se espresan como:\n",
    "\n",
    "\\begin{equation}\n",
    "\\textbf{b}_1 = \\frac{4\\pi}{3d} \\left(\\frac{\\sqrt3}{2},\\frac{1}{2}\\right) \n",
    "\\hspace{5mm},\\hspace{5mm} \n",
    "\\textbf{b}_2 =\\frac{4\\pi}{3d} \\left(\\frac{-\\sqrt3}{2},\\frac{1}{2}\\right)\n",
    "\\end{equation}"
   ]
  },
  {
   "cell_type": "markdown",
   "metadata": {},
   "source": [
    "![](SLGrec.png)"
   ]
  },
  {
   "cell_type": "markdown",
   "metadata": {
    "colab_type": "text",
    "id": "kXEmOj-E3fw0"
   },
   "source": [
    "Ya que los estados de Bloch no se modifican por traslaciones en el espacio de momentos, toda la información del sistema puede obtenerse limitando el enfoque a la celda unitaria en el espacio recíproco (1ª zona de Brillouin). Los puntos de interés para este trabajo son aquellos de alta simetría, los cuales son:"
   ]
  },
  {
   "cell_type": "markdown",
   "metadata": {
    "colab_type": "text",
    "id": "IXsmUlDQ3fw0"
   },
   "source": [
    "\\begin{equation}\n",
    "\\textbf{K}^{\\pm}= \\pm \\frac{4\\pi}{3 a} \\left(1,0\\right)\n",
    "\\hspace{5mm},\\hspace{5mm} \n",
    "\\textbf{M}= \\frac{\\pi}{a}  \\left( 1,\\frac{-1}{\\sqrt{3}}       \\right)\n",
    "\\hspace{5mm},\\hspace{5mm} \n",
    "\\boldsymbol{\\Gamma} = \\left(0,0 \\right)\n",
    "\\end{equation}"
   ]
  }
 ],
 "metadata": {
  "colab": {
   "name": "A_SLGGeom.ipynb",
   "provenance": []
  },
  "jupytext": {
   "formats": "ipynb,md"
  },
  "kernelspec": {
   "display_name": "Python 3",
   "language": "python",
   "name": "python3"
  },
  "language_info": {
   "codemirror_mode": {
    "name": "ipython",
    "version": 3
   },
   "file_extension": ".py",
   "mimetype": "text/x-python",
   "name": "python",
   "nbconvert_exporter": "python",
   "pygments_lexer": "ipython3",
   "version": "3.7.6"
  }
 },
 "nbformat": 4,
 "nbformat_minor": 1
}
