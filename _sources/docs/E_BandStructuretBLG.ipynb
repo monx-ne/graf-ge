{
 "cells": [
  {
   "cell_type": "markdown",
   "metadata": {
    "colab_type": "text",
    "id": "r2vsm7TmqZnK"
   },
   "source": [
    "## Hamiltoniano de amarre fuerte continuo para bajas energías"
   ]
  },
  {
   "cell_type": "markdown",
   "metadata": {},
   "source": [
    "Para la construcción del Hamiltoniano de la bicapa rotada, nos trasladamos nuevamente al espacio recíproco. Es necesario considerar la aportación energética de cada capa rotada $\\theta/2$ y de la interacción entre una capa y otra y recordar que se toman las mismas consideraciones de amarre fuerte que en la monocapa."
   ]
  },
  {
   "cell_type": "markdown",
   "metadata": {
    "colab_type": "text",
    "id": "6F9_pFmdqPRU"
   },
   "source": [
    "## Relación de dispersión "
   ]
  },
  {
   "cell_type": "code",
   "execution_count": 1,
   "metadata": {
    "ExecuteTime": {
     "end_time": "2020-02-12T19:45:42.428627Z",
     "start_time": "2020-02-12T19:45:42.239158Z"
    },
    "colab": {},
    "colab_type": "code",
    "id": "ioB4h_4_lI9Y"
   },
   "outputs": [],
   "source": [
    "from pylab import *"
   ]
  },
  {
   "cell_type": "code",
   "execution_count": 2,
   "metadata": {
    "ExecuteTime": {
     "end_time": "2020-02-12T19:45:42.464482Z",
     "start_time": "2020-02-12T19:45:42.430253Z"
    },
    "colab": {},
    "colab_type": "code",
    "id": "7MFzK74ilI9h"
   },
   "outputs": [],
   "source": [
    "### Parametros\n",
    "π = pi\n",
    "d   = 1.42      # Å\n",
    "dAB = 3.35      # Å\n",
    "t   = 2.97      # eV\n",
    "tAB = 0.33      # eV\n",
    "tk  = 0.58      # eV Å^2\n",
    "a   = sqrt(3)*d\n",
    "\n",
    "θgrad   = 5\n",
    "θ       = θgrad*(pi/180)\n",
    "\n",
    "K      = 4*π/(3*a)*array([1,0])\n",
    "absK   = abs(4*π/(3*a))\n",
    "ΔK     = abs(2*absK*sin(θ/2))\n",
    "#print (K,ΔK)\n",
    "\n",
    "Auc = a*a*sqrt(3)/2\n",
    "b1  = 4*pi/3/d*array([ sqrt(3)/2,0.5])\n",
    "b2  = 4*pi/3/d*array([-sqrt(3)/2,0.5])\n",
    "\n",
    "Auc_m = (3*sqrt(3)*d**2)/(8*(sin(θ/2))**2)\n",
    "b1_m  = sqrt(3)*ΔK*array([0.5,-sqrt(3)/2])\n",
    "b2_m  = sqrt(3)*ΔK*array([0.5, sqrt(3)/2])\n",
    "\n",
    "\n",
    "g12  = b2\n",
    "g13  = -1 * b1\n",
    "τ0   = array([0,0])\n",
    "\n",
    "# Vectores de separación entre los conos de la capa 1 y 2 \n",
    "qb  = ΔK*array([     0, -1])\n",
    "qtr = ΔK*array([ sqrt(3),1])/2\n",
    "qtl = ΔK*array([-sqrt(3),1])/2\n",
    "\n",
    "\n",
    "δ1 = d*array([       0,1])\n",
    "δ2 = d*array([-sqrt(3),1])/2\n",
    "δ3 = d*array([ sqrt(3),1])/2\n",
    "\n",
    "ħvF = 1.5*d*2.970     # eV*angstrom, Fermi velocity for SLG\n"
   ]
  },
  {
   "cell_type": "markdown",
   "metadata": {},
   "source": [
    "Retomando la simetría de la 1ZB para la supercelda, observamos que hay una interacción intercapa de los puntos de Dirac. La aportación de esta interacción se expresa mediante las matrices $\\textbf{B}$, $\\textbf{R}$ y $\\textbf{L}$."
   ]
  },
  {
   "cell_type": "code",
   "execution_count": 3,
   "metadata": {
    "ExecuteTime": {
     "end_time": "2020-02-12T19:45:42.473940Z",
     "start_time": "2020-02-12T19:45:42.465948Z"
    },
    "colab": {},
    "colab_type": "code",
    "id": "ChFXxxT_lI9n"
   },
   "outputs": [],
   "source": [
    "ϕ  = 2*π/3\n",
    "\n",
    "#Matrices\n",
    "\n",
    "\n",
    "B = tk/Auc*array([[1,1],\n",
    "                  [1,1]])\n",
    "R = tk/Auc*exp(-1J*dot(g12,τ0)) * array([[exp( 1J*ϕ),        1],\n",
    "                                         [exp(-1J*ϕ),exp(1J*ϕ)]])\n",
    "L = tk/Auc*exp(-1J*dot(g13,τ0))* array([[exp(-1J*ϕ),         1],\n",
    "                                        [exp( 1J*ϕ),exp(-1J*ϕ)]])\n",
    "\n",
    "Z  = zeros((2, 2))"
   ]
  },
  {
   "cell_type": "markdown",
   "metadata": {},
   "source": [
    "Con los puntos de Dirac de ambas capas, se genera una red en el espacio recíproco y a través de un diccionario se contruye el Hamiltoniano intercapa, asignando a cada interacción una de las matrices anteriores."
   ]
  },
  {
   "cell_type": "code",
   "execution_count": 4,
   "metadata": {
    "ExecuteTime": {
     "end_time": "2020-02-12T19:45:42.527193Z",
     "start_time": "2020-02-12T19:45:42.475217Z"
    },
    "colab": {},
    "colab_type": "code",
    "id": "_64vDfNWlI9u"
   },
   "outputs": [],
   "source": [
    "# Construcción de la red y de su diccionario\n",
    "\n",
    "O1 = array([0,0]) # origen\n",
    "O2 = qb # origen\n",
    "L1 = array([0,0])\n",
    "L2 = array([0,0])+O2\n",
    "\n",
    "###################################################\n",
    "num  = 2 # Define el tamaño de la red\n",
    "###################################################\n",
    "\n",
    "\n",
    "n,m  = arange(-num,num+1,1),arange(-num,num+1,1)\n",
    "\n",
    "N,M   = meshgrid(n,m)\n",
    "N     = N.reshape( (2*num+1)*(2*num+1), )\n",
    "M     = M.reshape( (2*num+1)*(2*num+1), )\n",
    "coef  = column_stack([N,M])\n",
    "bvec  = array([b1_m,b2_m])\n",
    "Des   = dot( coef,bvec )\n",
    "allL1 = L1+Des\n",
    "allL2 = L2+Des\n",
    "\n",
    "c = []\n",
    "for n in range(len(allL1)):\n",
    "    c.append(allL1[n])\n",
    "    c.append(allL2[n])\n",
    "    \n",
    "DicRedRec = {}\n",
    "\n",
    "for n,b in enumerate(c):\n",
    "    key = n\n",
    "    DicRedRec[key] = { \"pos\" : c[n],\n",
    "                       \"capa\": n%2+1,\n",
    "                       \"α\"   : coef[int(n/2)][0],\n",
    "                       \"β\"   : coef[int(n/2)][1]\n",
    "    }\n",
    "    \n",
    "# Hamiltoniano entre capas\n",
    "\n",
    "\n",
    "Hcapas = zeros( (len(DicRedRec.keys()),len(DicRedRec.keys())),dtype=int )\n",
    "\n",
    "\n",
    "# 0 -> Z (2x2)\n",
    "# 1 -> qb\n",
    "# 2 -> qtr\n",
    "# 3 -> qtl\n",
    "DicMat = { 0:Z, 1:B, 2:R, 3:L }\n",
    "\n",
    "for n in range(0,len(DicRedRec.keys()),2):\n",
    "    for key in DicRedRec:\n",
    "        if DicRedRec[key][\"capa\"]==2:\n",
    "            if (DicRedRec[key][\"α\"] ==DicRedRec[n][\"α\"] and DicRedRec[key][\"β\"] ==DicRedRec[n][\"β\"] ):\n",
    "                Hcapas[(n,key)] = 1 # print (\"qb\",key)\n",
    "                \n",
    "            if (DicRedRec[key][\"α\"] ==DicRedRec[n][\"α\"] and DicRedRec[key][\"β\"] ==DicRedRec[n][\"β\"]+1 ):\n",
    "                Hcapas[(n,key)] = 2 # print (\"qtr\",key)\n",
    "                \n",
    "            if (DicRedRec[key][\"α\"] ==DicRedRec[n][\"α\"]-1 and DicRedRec[key][\"β\"] ==DicRedRec[n][\"β\"] ):\n",
    "                Hcapas[(n,key)] = 3 # print (\"qtl\",key)\n",
    "                \n",
    "Hm = [ [DicMat[i] for i in rw] for rw in Hcapas ]\n",
    "H1 = asarray(bmat(Hm))\n",
    "H2 = H1.conj().T\n",
    "\n",
    "Hentrecapas = H1 + H2"
   ]
  },
  {
   "cell_type": "markdown",
   "metadata": {},
   "source": [
    "Recordamos que se debe establecer el camino en el espacio recíproco:"
   ]
  },
  {
   "cell_type": "code",
   "execution_count": 5,
   "metadata": {
    "ExecuteTime": {
     "end_time": "2020-02-12T19:45:42.544200Z",
     "start_time": "2020-02-12T19:45:42.537335Z"
    },
    "colab": {},
    "colab_type": "code",
    "id": "21HUtKHblI99",
    "outputId": "30e95d62-19dc-494b-e517-3f348cd6a13a"
   },
   "outputs": [],
   "source": [
    "# Definir los puntos k\n",
    "Km  = array([0,0])\n",
    "Kpm = -qb \n",
    "Γm  = qtr \n",
    "Mm  = -qtl/2\n",
    "Km2 = Km"
   ]
  },
  {
   "cell_type": "code",
   "execution_count": 6,
   "metadata": {
    "ExecuteTime": {
     "end_time": "2020-02-12T19:45:42.573983Z",
     "start_time": "2020-02-12T19:45:42.560782Z"
    },
    "colab": {},
    "colab_type": "code",
    "id": "2JfinlSalI-J"
   },
   "outputs": [],
   "source": [
    "def GetkPath(kpoints,numNk):\n",
    "    numP = len(kpoints)\n",
    "    Dist = []\n",
    "    for k in range(numP-1):\n",
    "        veck = kpoints[k+1]-kpoints[k]\n",
    "        D    = sqrt( dot(veck,veck) )\n",
    "        Dist.append( D )\n",
    "    Dist = array(Dist)\n",
    "    Nk_p = array( [ int(numNk*D/Dist.sum()) for D in Dist ] )\n",
    "    if (Nk_p.sum()<numNk):\n",
    "        Nk_p[-1] = numNk - Nk_p[:-1].sum()\n",
    "    KX, KY = array([]),array([])\n",
    "    for k in range(numP-1):\n",
    "        KX = concatenate([KX,linspace(kpoints[k][0],kpoints[k+1][0],Nk_p[k])]) \n",
    "        KY = concatenate([KY,linspace(kpoints[k][1],kpoints[k+1][1],Nk_p[k])])\n",
    "    return column_stack((KX,KY)),concatenate([[0],cumsum(Nk_p)])"
   ]
  },
  {
   "cell_type": "code",
   "execution_count": 7,
   "metadata": {
    "colab": {},
    "colab_type": "code",
    "id": "W6opTE1SlI-X"
   },
   "outputs": [],
   "source": [
    "k,kticks    = GetkPath([Km,Kpm,Γm,Mm,Km2],1000)\n",
    "kticklabels = [r\"$K_m$\",r\"$K'_m$\",r\"$\\Gamma$\",r\"$M_m$\",r\"$K_m$\"]"
   ]
  },
  {
   "cell_type": "markdown",
   "metadata": {
    "colab_type": "text",
    "id": "Bg0UwKAJH7_Q"
   },
   "source": [
    "Finalmente, para obtener el Hamiltoniano completo, a la aportación intercapas se le agrega la contribución energética intracapa:"
   ]
  },
  {
   "cell_type": "code",
   "execution_count": 8,
   "metadata": {
    "ExecuteTime": {
     "end_time": "2020-02-12T19:45:42.591595Z",
     "start_time": "2020-02-12T19:45:42.582738Z"
    },
    "colab": {},
    "colab_type": "code",
    "id": "ylC_QbmJlI-d"
   },
   "outputs": [],
   "source": [
    "# Construcción del Hamiltoniano \n",
    "def GetHam(k):\n",
    "    Hdiag = zeros_like(Hentrecapas)\n",
    "    for key in DicRedRec:\n",
    "        diagonal = zeros(len(DicRedRec.keys()))\n",
    "        diagonal[key] = 1\n",
    "        \n",
    "        if (DicRedRec[key][\"capa\"]==1):\n",
    "            # Capa 1\n",
    "            sh  = DicRedRec[key][\"α\"]*b1_m+DicRedRec[key][\"β\"]*b2_m\n",
    "            #fk  = exp(1J*dot( dot(Rpθ2,k+sh), dot(Rpθ2,δ1) )) \\\n",
    "            #     +exp(1J*dot( dot(Rpθ2,k+sh), dot(Rpθ2,δ2) )) \\\n",
    "            #     +exp(1J*dot( dot(Rpθ2,k+sh), dot(Rpθ2,δ3) ))\n",
    "            q  = k + sh\n",
    "            # print (q,DicRedRec[key][\"α\"],DicRedRec[key][\"β\"],k )\n",
    "            fk = q[0]*( cos(θ/2)+1J*sin(θ/2) )+q[1]*( sin(θ/2)-1J*cos(θ/2) )\n",
    "            # print (ħvF*fk,DicRedRec[key][\"α\"],DicRedRec[key][\"β\"])\n",
    "        if (DicRedRec[key][\"capa\"]==2):\n",
    "            # Capa 2\n",
    "            \n",
    "            sh  = DicRedRec[key][\"α\"]*b1_m+DicRedRec[key][\"β\"]*b2_m\n",
    "            #fk  = exp(1J*dot( dot(Rmθ2,k+sh), dot(Rmθ2,δ1) )) \\\n",
    "            #     +exp(1J*dot( dot(Rmθ2,k+sh), dot(Rmθ2,δ2) )) \\\n",
    "            #     +exp(1J*dot( dot(Rmθ2,k+sh), dot(Rmθ2,δ3) ))\n",
    "            q  = k + sh + qb\n",
    "            # print (q,DicRedRec[key][\"α\"],DicRedRec[key][\"β\"],k )\n",
    "            fk = q[0]*( cos(-θ/2)+1J*sin(-θ/2) )+q[1]*( sin(-θ/2)-1J*cos(-θ/2) )\n",
    "            # print (ħvF*fk,DicRedRec[key][\"α\"],DicRedRec[key][\"β\"])\n",
    "        # Hk   = array([[ 0 , -t*fk],[-t*conj(fk), 0]])\n",
    "        Hk   = array([[ 0 , ħvF*fk],[ħvF*conj(fk), 0]])\n",
    "        \n",
    "        \n",
    "        Htmp = array(kron(diag(diagonal), [Hk]))[0]\n",
    "        Hdiag += Htmp\n",
    "        \n",
    "    H = Hentrecapas + Hdiag\n",
    "      \n",
    "    eigenvalue,featurevector=linalg.eig(H)\n",
    "    return sort(eigenvalue.real)"
   ]
  },
  {
   "cell_type": "code",
   "execution_count": 9,
   "metadata": {
    "ExecuteTime": {
     "end_time": "2020-02-12T19:45:42.616994Z",
     "start_time": "2020-02-12T19:45:42.608862Z"
    },
    "colab": {},
    "colab_type": "code",
    "id": "ADc6fr1dlI-m"
   },
   "outputs": [],
   "source": [
    "from multiprocessing import Pool"
   ]
  },
  {
   "cell_type": "markdown",
   "metadata": {},
   "source": [
    "Se procede a calcular los eigenvalores y se grafican, generando la estructura de bandas:"
   ]
  },
  {
   "cell_type": "code",
   "execution_count": 10,
   "metadata": {
    "ExecuteTime": {
     "end_time": "2020-02-12T19:45:56.974550Z",
     "start_time": "2020-02-12T19:45:42.619477Z"
    },
    "colab": {},
    "colab_type": "code",
    "id": "jXY7D4gQlI-z"
   },
   "outputs": [],
   "source": [
    "p  = Pool()\n",
    "Ek = p.map(GetHam,k)\n",
    "Ek = array(Ek)"
   ]
  },
  {
   "cell_type": "code",
   "execution_count": 11,
   "metadata": {
    "colab": {},
    "colab_type": "code",
    "id": "Zh7YW6RylI-5"
   },
   "outputs": [],
   "source": [
    "mpl.rcParams.update({'font.size': 18, 'text.usetex': True})\n",
    "mpl.rcParams.update({'axes.linewidth':1.5})\n",
    "mpl.rcParams.update({'axes.labelsize':'large'})\n",
    "mpl.rcParams.update({'xtick.major.size':6})\n",
    "mpl.rcParams.update({'xtick.minor.size':4})\n",
    "mpl.rcParams.update({'ytick.major.size':6})\n",
    "mpl.rcParams.update({'ytick.minor.size':4})\n",
    "mpl.rcParams.update({'xtick.major.width':1.5})\n",
    "mpl.rcParams.update({'xtick.minor.width':1.0})\n",
    "mpl.rcParams.update({'ytick.major.width':1.5})\n",
    "mpl.rcParams.update({'ytick.minor.width':1.0})\n",
    "mpl.rcParams.update({'legend.frameon':False,'legend.framealpha':0.0})"
   ]
  },
  {
   "cell_type": "code",
   "execution_count": 12,
   "metadata": {
    "ExecuteTime": {
     "end_time": "2020-02-12T19:45:57.421781Z",
     "start_time": "2020-02-12T19:45:56.976509Z"
    },
    "colab": {},
    "colab_type": "code",
    "id": "5ut_i8KylI--",
    "outputId": "f0f6376c-b475-4fb0-cd76-7ac3389a8a16"
   },
   "outputs": [
    {
     "data": {
      "image/png": "[encoded data removed]",
      "text/plain": [
       "<Figure size 720x403.2 with 1 Axes>"
      ]
     },
     "metadata": {
      "needs_background": "light"
     },
     "output_type": "display_data"
    }
   ],
   "source": [
    "fig,axes = plt.subplots(ncols=1,nrows=1,figsize=(10,5.6))\n",
    "numNk = len(Ek)\n",
    "for n in range(len(Ek.T)):\n",
    "    plot(range(numNk),Ek.T[n])\n",
    "    \n",
    "maxEk = Ek.max()\n",
    "minEk = Ek.min()\n",
    "for tick in kticks[1:-1]:\n",
    "    axes.plot([tick,tick],[minEk,maxEk],\":\",c=\"k\")\n",
    "axes.set_xticks(kticks)\n",
    "axes.set_xticklabels(kticklabels)\n",
    "axes.set_ylim(-1.2,1.2)\n",
    "\n",
    "axes.set_ylabel('E (eV)') \n",
    "axes.set_title('tBLG Electronic spectrum') \n",
    "\n",
    "\n",
    "fig.tight_layout()"
   ]
  },
  {
   "cell_type": "markdown",
   "metadata": {},
   "source": [
    "En el caso de la bicapa rotada, se aparecce un mayor número de estados electrónicos cerca del nivel de Fermi. Estas bandas planas se asocian a una disminución de la velocidad de los electrones, comparada con la monocapa de grafeno."
   ]
  },
  {
   "cell_type": "code",
   "execution_count": null,
   "metadata": {},
   "outputs": [],
   "source": []
  }
 ],
 "metadata": {
  "colab": {
   "name": "E_BandStructuretBLG.ipynb",
   "provenance": []
  },
  "kernelspec": {
   "display_name": "Python 3",
   "language": "python",
   "name": "python3"
  },
  "language_info": {
   "codemirror_mode": {
    "name": "ipython",
    "version": 3
   },
   "file_extension": ".py",
   "mimetype": "text/x-python",
   "name": "python",
   "nbconvert_exporter": "python",
   "pygments_lexer": "ipython3",
   "version": "3.7.6"
  },
  "latex_envs": {
   "LaTeX_envs_menu_present": true,
   "autoclose": false,
   "autocomplete": false,
   "bibliofile": "biblio.bib",
   "cite_by": "apalike",
   "current_citInitial": 1,
   "eqLabelWithNumbers": true,
   "eqNumInitial": 1,
   "hotkeys": {
    "equation": "Ctrl-E",
    "itemize": "Ctrl-I"
   },
   "labels_anchors": false,
   "latex_user_defs": false,
   "report_style_numbering": false,
   "user_envs_cfg": false
  },
  "toc": {
   "base_numbering": 1,
   "nav_menu": {},
   "number_sections": true,
   "sideBar": true,
   "skip_h1_title": false,
   "title_cell": "Table of Contents",
   "title_sidebar": "Contents",
   "toc_cell": false,
   "toc_position": {},
   "toc_section_display": true,
   "toc_window_display": false
  },
  "varInspector": {
   "cols": {
    "lenName": 16,
    "lenType": 16,
    "lenVar": 40
   },
   "kernels_config": {
    "python": {
     "delete_cmd_postfix": "",
     "delete_cmd_prefix": "del ",
     "library": "var_list.py",
     "varRefreshCmd": "print(var_dic_list())"
    },
    "r": {
     "delete_cmd_postfix": ") ",
     "delete_cmd_prefix": "rm(",
     "library": "var_list.r",
     "varRefreshCmd": "cat(var_dic_list()) "
    }
   },
   "types_to_exclude": [
    "module",
    "function",
    "builtin_function_or_method",
    "instance",
    "_Feature"
   ],
   "window_display": false
  }
 },
 "nbformat": 4,
 "nbformat_minor": 1
}
